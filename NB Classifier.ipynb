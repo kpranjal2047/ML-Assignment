{
 "metadata": {
  "language_info": {
   "codemirror_mode": {
    "name": "ipython",
    "version": 3
   },
   "file_extension": ".py",
   "mimetype": "text/x-python",
   "name": "python",
   "nbconvert_exporter": "python",
   "pygments_lexer": "ipython3",
   "version": "3.8.6-final"
  },
  "orig_nbformat": 2,
  "kernelspec": {
   "name": "python3",
   "display_name": "Python 3.8.6 64-bit",
   "metadata": {
    "interpreter": {
     "hash": "6ba59fa2cb4266997b27bc4ee69e666c729e9f6cf5be985ebeecd1b58c76e8f7"
    }
   }
  }
 },
 "nbformat": 4,
 "nbformat_minor": 2,
 "cells": [
  {
   "source": [
    "# Naive Bayes Classifier"
   ],
   "cell_type": "markdown",
   "metadata": {}
  },
  {
   "cell_type": "code",
   "execution_count": 1,
   "metadata": {},
   "outputs": [],
   "source": [
    "# Importing required modules\n",
    "import re\n",
    "import numpy as np"
   ]
  },
  {
   "source": [
    "## Storing stopwords list"
   ],
   "cell_type": "markdown",
   "metadata": {}
  },
  {
   "cell_type": "code",
   "execution_count": 2,
   "metadata": {},
   "outputs": [],
   "source": [
    "# Stopwords list\n",
    "stopwords = [\"a\", \"about\", \"above\", \"after\", \"again\", \"against\", \"ain\", \"all\", \"am\", \"an\", \"and\", \"any\", \"are\", \"aren\", \"aren't\", \"as\", \"at\", \"be\", \"because\", \"been\", \"before\", \"being\", \"below\", \"between\", \"both\", \"but\", \"by\", \"can\", \"couldn\", \"couldn't\", \"d\", \"did\", \"didn\", \"didn't\", \"do\", \"does\", \"doesn\", \"doesn't\", \"doing\", \"don\", \"don't\", \"down\", \"during\", \"each\", \"few\", \"for\", \"from\", \"further\", \"had\", \"hadn\", \"hadn't\", \"has\", \"hasn\", \"hasn't\", \"have\", \"haven\", \"haven't\", \"having\", \"he\", \"her\", \"here\", \"hers\", \"herself\", \"him\", \"himself\", \"his\", \"how\", \"i\", \"if\", \"in\", \"into\", \"is\", \"isn\", \"isn't\", \"it\", \"it's\", \"its\", \"itself\", \"just\", \"ll\", \"m\", \"ma\", \"me\", \"mightn\", \"mightn't\", \"more\", \"most\", \"mustn\", \"mustn't\", \"my\", \"myself\", \"needn\", \"needn't\", \"no\", \"nor\", \"not\", \"now\", \"o\", \"of\", \"off\", \"on\", \"once\", \"only\", \"or\", \"other\", \"our\", \"ours\", \"ourselves\", \"out\", \"over\", \"own\", \"re\", \"s\", \"same\", \"shan\", \"shan't\", \"she\", \"she's\", \"should\", \"should've\", \"shouldn\", \"shouldn't\", \"so\", \"some\", \"such\", \"t\", \"than\", \"that\", \"that'll\", \"the\", \"their\", \"theirs\", \"them\", \"themselves\", \"then\", \"there\", \"these\", \"they\", \"this\", \"those\", \"through\", \"to\", \"too\", \"under\", \"until\", \"up\", \"ve\", \"very\", \"was\", \"wasn\", \"wasn't\", \"we\", \"were\", \"weren\", \"weren't\", \"what\", \"when\", \"where\", \"which\", \"while\", \"who\", \"whom\", \"why\", \"will\", \"with\", \"won\", \"won't\", \"wouldn\", \"wouldn't\", \"y\", \"you\", \"you'd\", \"you'll\", \"you're\", \"you've\", \"your\", \"yours\", \"yourself\", \"yourselves\", \"could\", \"he'd\", \"he'll\", \"he's\", \"here's\", \"how's\", \"i'd\", \"i'll\", \"i'm\", \"i've\", \"let's\", \"ought\", \"she'd\", \"she'll\", \"that's\", \"there's\", \"they'd\", \"they'll\", \"they're\", \"they've\", \"we'd\", \"we'll\", \"we're\", \"we've\", \"what's\", \"when's\", \"where's\", \"who's\", \"why's\", \"would\"]"
   ]
  },
  {
   "source": [
    "## Function to clean the dataset"
   ],
   "cell_type": "markdown",
   "metadata": {}
  },
  {
   "cell_type": "code",
   "execution_count": 3,
   "metadata": {},
   "outputs": [],
   "source": [
    "# Function to clean dataset\n",
    "def clean(string):\n",
    "    string = re.sub(r'[\\s]+', ' ', string.lower())\n",
    "    lst = []\n",
    "    for word in string.split():\n",
    "        if word not in stopwords:\n",
    "            lst.append(word)\n",
    "    string = ' '.join(lst)\n",
    "    string = re.sub(r'[^A-Za-z\\s]', '', string)\n",
    "    lst = []\n",
    "    for word in string.split():\n",
    "        if len(word) > 2:\n",
    "            lst.append(word)\n",
    "    string = ' '.join(lst)\n",
    "    return string"
   ]
  },
  {
   "source": [
    "## Reading the dataset"
   ],
   "cell_type": "markdown",
   "metadata": {}
  },
  {
   "cell_type": "code",
   "execution_count": 4,
   "metadata": {
    "tags": [
     "outputPrepend"
    ]
   },
   "outputs": [
    {
     "output_type": "stream",
     "name": "stdout",
     "text": [
      "ment!!    0\nMuch less than the jawbone I was going to replace it with.  1\nSetup went very smoothly.   1\nits extremely slow and takes forever to do anything with it.    0\nA must study for anyone interested in the \"worst sins\" of industrial design.    0\nThe first thing that happened was that the tracking was off.    0\nIt is well made, easy to access the phone and has a handy, detachable belt clip.    1\nThen I had to continue pairing it periodically since it somehow kept dropping.  0\nCan't upload ringtones from a third party.  0\nBluetooth does not work, phone locks up, screens just flash up and now it just makes calls randomly while in my pocket locked.  0\nTruly awful.    0\nIt works fine on my Motorola 325 cellphone, and a lot better than the worn-out battery did. 1\nThe volume for the ringer is REAL good (you have choices how loud). 1\nAnd none of the tones is acceptable.    0\ncamera color balance is AWFUL.  0\nThis product is clearly not ready for prime time, I don't care how cool it looks, if you can't tell a call is coming in it's worthless. 0\nI love the ringtones because they are so upbeat!    1\nChinese Forgeries Abound!.  0\nEasy to pair with my Samsung Cell.  1\nThe instructions didn't explain that a microphone jack could be used.   0\ni would advise to not purchase this item it never worked very well. 0\nToo bad you have to pay up to $$$ a month for the service!  0\nWorks well. 1\nThe nokia CA-42 USB cable did not work with my phone.   0\nClear crisp sound.  1\nI have to use the smallest earpieces provided, but it stays on pretty well. 1\nThe biggest complaint I have is, the battery drains superfast.  0\nThe design might be ergonomic in theory but I could not stand having these in my ear.   0\nDo NOT buy if you want to use the holster.  0\nThe phone can also take great pictures and even video clips.    1\nIt doesn't make you look cool.  0\nBecause both ears are occupied, background is not distracting at all.   1\nComfortable fit - you need your headset to be comfortable for at least an hour at a time, if not for an entire day. 1\nAlso, the phone doesn't seem to accept anything except CBR mp3s, preferably ripped by Windows Media Player. 0\nYou can't beat the price on these.  1\n* Comes with a strong light that you can use to light up your camera shots, and even flash SOS signals (seriously!  1\nlightweight and works well. 1\nSo just beware. 0\nI love this cable - it allows me to connect any mini-USB device to my PC.   1\nSo anyone near you will hear part of your conversation. 0\nThis is cool because most cases are just open there allowing the screen to get all scratched up.    1\nI bought this phone as a replacement for my StarTac and have regretted it since.    0\nAppears to actually outperform the original battery from China that came with my V325i. 1\nCan't store anything but phone numbers to SIM.  0\nIt lasts less than 3o minutes, if I actually try to use the phone.My wife has the same phone with the same problem. 0\nPoor quality.   0\njabra ear gels \"R\" the best!.   1\nNot worth it.   0\nThe phone crashed completely and now I have to get it replaced. 0\nIt quit working after I'd used it for about 18 months, so I just purchased another one because this is the best headset I've ever owned.    1\nUnfortunately it will not recharge my iPhone 4s, despite connecting it from multiple power sources (iMac, external battery, wall outlet, etc).  0\nIt was a great phone.   1\nif you simply want a small flip phone -- look elsewhere as the extra bells & whistles are mediocre. 0\nGood value, works fine - power via USB, car, or wall outlet.    1\nMy phone doesn't slide around my car now and the grip prevents my phone from slipping out of my hand.   1\nThis is simply the BEST bluetooth headset for sound quality!    1\nThink it over when you plan to own this one!This sure is the last MOTO phone for me!    0\nIn the span of an hour, I had two people exclaim \"Whoa - is that the new phone on TV?!? 1\nI have always used corded headsets and the freedom from the wireless is very helpful.   1\nThis case has passed the one year mark and while it shows signs of wear, it is 100% functional. 1\nOther than that, the leather is nice and soft; the fit is very tight; the cut out for the face is a good shape. 1\nIt has everything I need and I couldn't ask for more.   1\nAfter receiving and using the product for just 2 days it broke. 0\nThis product is great... it makes working a lot easier I can go to the copier while waiting on hold for something.  1\nNone of the three sizes they sent with the headset would stay in my ears.   0\nT-Mobile has the best customer service anywhere.    1\nArrived quickly and much less expensive than others being sold. 1\nWe have tried 2 units and they both failed within 2 months.. Pros   0\nProvides good protection and looks classy, too. 1\nKrussel Always good.    1\nThe tracfonewebsite is user friendly and makes it easy toactivate, etc. 1\nThe design is very good.4.  1\nI great reception all the time. 1\nI would highly recommend this product.  1\nCouldn't use the unit with sunglasses, not good in Texas!   0\nIt dit not work most of the time with my Nokia 5320.    0\nBought mainly for the charger, which broke soon after purchasing.   0\nIf you like a loud buzzing to override all your conversations, then this phone is for you!  0\nFantastic buy and will get again for whatever my next phone is  1\nstay away from this store, be careful.  0\nThis BlueAnt Supertooth hands-free phone speaker is AWESOME.    1\nDoes not fit.   0\n.... Item arrived quickly and works great with my Metro PCS Samsung SCH-r450 slider phone and Sony Premium Sound in ear plugs.  1\nIt is light, has plenty of battery capacity, and is very confortable to wear for somewhat extended periods of time. 1\ndisappointing.  0\nBlue Ant is easy to use.    1\nCheap but hey it works.. Was pleasantly suprised given the low cost of this item.   1\nThe camera on the phone may be used as a dustpan when indoors... I'd rather be using a disposable then this.    0\nThen a few days later the a puff of smoke came out of the phone while in use.   0\nIt's very convenient and simple to use - gets job done & makes the car ride so much smoother.   1\nThe nano stated it.My son was dissapointed. 0\nThe sound quality is excellent as well. 1\nIts the best headset I have used.   1\nWould not reccommend.   0\nThey have been around for years and carries the highest quality of anti-glare screen protector that I have found to date.   1\nJust what I wanted. 1\nThis particular model would not work with my Motorola Q smartphone. 0\nwont work right or atleast for me.  0\nin addition it feels &amp; looks as if the phone is all lightweight cheap plastic.  0\nBut now that it is \"out of warranty\" the same problems reoccure.Bottom line... put your money somewhere else... Cingular will not support it.   0\nI really wanted the Plantronics 510 to be the right one, but it has too many issues for me.The good 0\nGreat product.  1\nCrisp and Clear.    1\nAFter the first charge kept going dead after 12 minutes.    0\nVERY cheap plastic, creaks like an old wooden floor.    0\nI get absolutely horrible reception in my apartment, where with other phones I have not had this problem.   0\nThe reception has been generally good.  1\nExcellent sound, battery life and inconspicuous to boot!.   1\nGreat bluetooth!.   1\nI highly recommend this case.   1\nWORTHWHILE. 1\nThis is a great deal.   1\nAfter my phone got to be about a year old, it's been slowly breaking despite much care on my part.  0\nI am sorry I made this purchase.    0\nI bought these hoping I could make my Bluetooth headset fit better but these things made it impossible to wear. 0\nTreo and T-Mobile refused to replace it again and forced me to buy another phone without any kind of upgrade discount.  0\nIt was horrible!.   0\nI don't think it would hold it too securly on your belt.    0\nThis allows the possibility of double booking for the same date and time after the first.   0\nThey work about 2 weeks then break. 0\nIt is simple to use and I like it.  1\nIt's a great tool for entertainment, communication, and data management.Oh, be sure to use ActiveSync 4.2 for optimal data synchronization results! 1\nI can't use this case because the smell is disgusting.  0\nNOT WHAT I WANTED.  0\nI own 2 of these cases and would order another. 1\nGreat Phone.    1\nI bought this battery with a coupon from Amazon and I'm very happy with my purchase.    1\nThe internet access was fine, it the rare instance that it worked.  0\nPerfect for the PS3.    1\nFive star Plus, plus.   1\nA good quality bargain.. I bought this after I bought a cheapy from Big Lots that sounded awful and people on the other end couldn't hear me.   1\n$50 Down the drain. 0\nI tried talking real loud but shouting on the telephone gets old and I was still told it wasn't great.  0\nGood , works fine.  1\nFor the price this was a great deal.    1\nGreat price, too!   1\nIf there is a wind, it is completely useless.   0\nYes it's shiny on front side - and I love it!   1\nDoes Not Work.  0\nAt first I thought I was grtting a good deal at $7.44, until I plugged it into my phone (V3c Razr). 0\nThe reception through this headset is excellent.    1\n2 thumbs up to this seller  1\nI have a Verizon LG phone and they work well together, good reception and range that exceeds 20 feet line of sight. 1\nImproper description.... I had to return it.    0\n#1 It Works - #2 It is Comfortable. 1\nBattery charge-life is quite long.  1\nThe Jabra EarGels fit my ears very well.    1\nBattery has no life.    0\nI checked everywhere and there is no feature for it which is really disappointing.  0\nProduct is exactly as described.    1\nGets a signal when other Verizon phones won't.  1\nDoesn't do the job. 0\nI would recommend it.   1\nPlan on ordering from them again and again. 1\nThat being said, for a phone, the camera is very nice; many cool effects to play with, and video is decent as well. 1\nI have been very satisfied with this cell phone from day one.   1\nThey keep getting better and better (this is my third one and I've had numerous Palms too). 1\nAwkward to use and unreliable.  0\nThe shipping time was also very quick!  1\nNot as good as I had hoped. 0\nGood case!. 1\nDoesn't Work.   0\nReally good product.    1\nUnfortunately it did not work.  0\nAll three broke within two months of use.   0\ndont buy it.    0\nMy father has the V265, and the battery is dying.   0\nHowever, the ear pads come off easily and after only one week I lost one.   0\nThe calls drop, the phone comes on and off at will, the screen goes black and the worst of all it stops ringing intermittently. 0\nHorrible, horrible protector.   0\nI don't like this Nokia either. 0\nReaching for the bottom row is uncomfortable, and the send and end keys are not where I expect them to be.3.    0\nI have bought this Nokia cell phone a few weeks ago and it was a nightmare. 0\nIt would take too long to describe how bad my customer service experience has been with Amazon. 0\nthe only VERY DISAPPOINTING thing was there was NO SPEAKERPHONE!!!! 0\nTerrible.. My car will not accept this cassette.    0\nProduct is useless, since it does not have enough charging current to charge the 2 cellphones I was planning to use it with.    0\nIt's not what it says it is.    0\nStay Away From the Q!.  0\nUsed and dirty. 0\nVery unreliable service from T-mobile ! 0\nNot good enough for the price.  0\nI bought two of them and neither will charge.   0\nIt looks very nice. 1\nThis is an excellent tool, especially when paired with your phone's auto-answer.    1\nI have read other's reviews here but I haven't had any problem with it. 1\nThese products cover up the important light sensor above the ear outlet.    0\nComfortable in my hand. 1\nJust does not work. 0\nPoor Reliability.   0\n(It works!) 1\nIf I take a picture, the battery drops a bar, and starts beeping, letting me know its dieing.   0\nTerrible product, and waste of money!   0\nLast time buying from you.  0\nIt was a waste of my money. 0\nSo far it has worked like a charm.  1\nI have only had it for a few weeks, but so far, so good.    1\nBut, in any case, the best part is, you can download these pictures to your laptop using IR, or even send pictures from your laptop to the phone.   1\nWould recommend this item.  1\nIt's been my choice headset for years.Great sound; good volume; good noise cancellation.    1\nNice case, feels good in your hands.    1\nThe item received was Counterfeit.  0\nJust really good.. So far, probably the best BT headset I have ever had.    1\nWorks fine. 1\nI received my headset in good time and was happy with it.   1\nI was very pleased to see that I could replace my well travled swivel holster for my Blackberry flip.   1\nMy sister has one also and she loves it.    1\nGood Quality.   1\nThis is by far the worst purchase I've made on Amazon.  0\nExcellent dual-purpose headset. 1\nExcellent!. 1\nDoes not work for listening to music with the cingular 8125.    0\nIt seems completely secure, both holding on to my belt, and keeping the iPhone inside.  1\nThe bottowm line...another worthless, cheap gimmick from Sprint.    0\nHaving trouble with volume. 0\nThe only good thing was that it fits comfortably on small ears. 1\nWARNING - DO NOT BUY!!. 0\nI am pairing this with my iphone, and I could not be happier with it so far.    1\nWhen it opens, the battery connection is broken and the device is turned off.   0\nI didn't want the clip going over the top of my ear, causing discomfort.    0\nBest headset ever!!!.   1\nDon't trust their website and don't expect any helpful support. 0\nIt was that loud.Glad to say that the Plantronics 510 maintains a flawless connection to my cell and with no static during normal use.  1\nThe speaker is of low quality so as making the ring tones sound very cheap. 0\nFits comfortably, came with three sizes of earbud tips. 1\nExcellent product for the price.    1\nBad Reception.  0\nThis product is very High quality Chinese CRAP!!!!!!    0\nIt was quite comfortable in the ear.    1\nGreat phone.    1\nDon't buy this product - It fails!. 0\nEverything about this product is wrong.First    0\nThe pairing of the two devices was so easy it barely took a couple minutes before I started making calls with the voice dialing feature.    1\nThis was utterly confusing at first, which caused me to lose a couple of very, very important contacts. 0\nTerrible phone holder.  0\nThe cutouts and buttons are placed perfectly.   1\nI love being able to use one headset for both by land-line and cell.    1\nProblem is that the ear loops are made of weak material and break easily.   0\nNot nearly as good looking as the AMAZON picture makes it look. 0\nBut despite these few flaws, this case is of exceptional quality and well worth the additional costs of owning an official OEM product. 1\nHow stupid is that? 0\nI can hear while I'm driving in the car, and usually don't even have to put it on it's loudest setting. 1\nSeller shipped quickly and much cheaper than the competitors.   1\nGood show, Samsung. 1\nSo I bought about 10 of these and saved alot of money.  1\nIt always cuts out and makes a beep beep beep sound then says signal failed.    0\nCouldn't figure it out  0\nMy phone sounded OK ( not great - OK), but my wife's phone was almost totally unintelligible, she couldn't understand a word being said on it.  0\nSo I had to take the battery out of the phone put it all back together and then restart it. 0\nWhile I managed to bend the leaf spring back in place, the metal now has enough stress that it will break on the next drop. 0\nLeopard Print is wonderfully wild!. 1\nWorks for me.   1\nSaggy, floppy piece of junk.    0\nmuch better than the hard plastic cases.    1\nIt also had a new problem.  0\nHappy so far!.  1\ncool phone. 1\nWorks good. 1\nMotorola finally got the voice quality of a bluetooth headset right.    1\nIt looses connection to the phone even when it is within a couple feet between the two. 0\nbut it is great, i would really recommend it    1\nMakes it easier to keep up with my bluetooth when I'm not wearing it.   0\nAs I said above....PRETTY USELESS!  0\nNever got it!!!!!   0\nThis pair of headphones is the worst that I have ever had sound-wise.   0\n[...] down the drain because of a weak snap!    0\nDoes not charge the Cingular (ATT) 8525 phone.  0\nYou get extra minutes so that you can carry out the call and not get cut off.\"  1\nHowever, after about a year, the fliptop started to get loose and wobbly and eventually my screen went black and I couldn't receive and place calls.    0\nI kept catching the cable on the seat and I had to pull the phone out to turn it on an off. 0\nThe headset fulfills my requirements so I am happy with my purchase.    1\nLogitech Bluetooth Headset is a 10!.    1\nI like the fact that it rests lightly against your ear, rather than inside. 1\nA lot of websites have been rating this a very good phone and so do I.  1\nI have tried these cables with my computer and my iPod and it works just fine.  1\nThe mic there is a joke, and the volume is quite low.   0\nI'm returning them. 0\nI does not maintain a connection with the computer while it is on my lap.   0\nIt is easy to turn on and off when you are in the car and the volume controls are quite accessable. 1\nI have had mine for about a year and this Christmas I bought some for the rest of the family.   1\nOtherwise, easy to install and use, clear sound.    1\nnice leather.   1\nI had to purchase a different case. 0\nIt is a joy to use. 1\nVery much disappointed with this company.   0\nVery satisifed with that.   1\nIt didn't charge for me.    0\nThis is the phone to get for 2005.... I just bought my S710a and all I can say is WOW!  1\nButtons are too small.  0\nJust reading on the specs alone makes you say WOW.  1\nLove it.. Great armband.    1\nI really like this product over the Motorola because it is allot clearer on the ear piece and the mic.  1\nHowever, the keypads are so tinny that I sometimes reach the wrong buttons. 0\nI exchanged the sony ericson z500a for this and I'm pretty happy with that decision.    1\nI was very impressed with the price of the cases.   1\nAlso makes it easier to hold on to. 1\nI use this product in a motor control center where there is a lot of high voltage humming from the equipment, and it works great!   1\nIt's pretty easy.   1\nI cannot make calls at certain places.  0\nhowever, my girl was complain that some time the phone doesn't wake up like normal phone does.  0\nBeautiful styling though.   1\nThis company charge me a restocking fee and still not given me my refund back.  0\nI'm trying to return it for a refund.   0\nI plugged it in only to find out not a darn thing worked.   0\nExcellent product.  1\nEarbud piece breaks easily. 0\nLousy product.  0\nThis phone tries very hard to do everything but fails at it's very ability to be a phone.   0\nIt is the best charger I have seen on the market yet.   1\nSWEETEST PHONE!!!   1\n:-)Oh, the charger seems to work fine.  1\nIt fits so securely that the ear hook does not even need to be used and the sound is better directed through your ear canal.    1\nNot enough volume.  0\nEcho Problem....Very unsatisfactory 0\nyou could only take 2 videos at a time and the quality was very poor.   0\ndon't waste your money. 0\nI am going to have to be the first to negatively review this product.   0\nAdapter does not provide enough charging current.   0\nThere was so much hype over this phone that I assumed it was the best, my mistake.  0\nYou also cannot take pictures with it in the case because the lense is covered. 0\nPhone falls out easily. 0\nIt didn't work, people can not hear me when I talk. 0\nThe text messaging feature is really tricky to use. 0\nI'm really disappointed all I have now is a charger that doesn't work.  0\nPainful on the ear. 0\nLasted one day and then blew up.    0\ndisappointed.   0\nKind of flops around.   0\nThe screen does get smudged easily because it touches your ear and face.    0\nWhat a piece of junk.. I lose more calls on this phone. 0\nItem Does Not Match Picture.    0\nThe only thing that disappoint me is the infra red port (irda). 0\nYou can not answer calls with the unit, never worked once!  0\n"
     ]
    }
   ],
   "source": [
    "# Reading the data\n",
    "f = open('data/dataset_NB.txt', 'r', encoding='utf8')\n",
    "f = f.read()\n",
    "print(f)"
   ]
  },
  {
   "source": [
    "## Creating Features and Class array"
   ],
   "cell_type": "markdown",
   "metadata": {}
  },
  {
   "cell_type": "code",
   "execution_count": 5,
   "metadata": {
    "tags": []
   },
   "outputs": [],
   "source": [
    "lines = f.splitlines()\n",
    "X = []\n",
    "Y = []\n",
    "for line in lines:\n",
    "    l = line.split()\n",
    "    cleaned = clean(' '.join(l[:-1]))\n",
    "    if len(cleaned) > 0:\n",
    "        Y.append(int(l[-1]))\n",
    "        X.append(cleaned)"
   ]
  },
  {
   "source": [
    "## Functions to calculate probabilities"
   ],
   "cell_type": "markdown",
   "metadata": {}
  },
  {
   "cell_type": "code",
   "execution_count": 6,
   "metadata": {},
   "outputs": [],
   "source": [
    "def find_counts(spam, non_spam):\n",
    "    unique_words_spam = set()\n",
    "    for sentence in spam:\n",
    "        for word in sentence.split():\n",
    "            unique_words_spam.add(word)\n",
    "    unique_words_spam = list(unique_words_spam)\n",
    "\n",
    "    spam_count_dict = {}\n",
    "    total_spam_count = 0\n",
    "    for word in unique_words_spam:\n",
    "        emails_with_word = 0\n",
    "        for sentence in spam:\n",
    "            if word in sentence:\n",
    "                emails_with_word += 1\n",
    "        spam_count_dict[word] = emails_with_word\n",
    "        total_spam_count += emails_with_word\n",
    "\n",
    "    unique_words_non_spam = set()\n",
    "    for sentence in non_spam:\n",
    "        for word in sentence.split():\n",
    "            unique_words_non_spam.add(word)\n",
    "    unique_words_non_spam = list(unique_words_non_spam)\n",
    "    \n",
    "    non_spam_count_dict = {}\n",
    "    total_non_spam_count = 0\n",
    "    for word in unique_words_non_spam:\n",
    "        emails_with_word = 0\n",
    "        for sentence in non_spam:\n",
    "            if word in sentence:\n",
    "                emails_with_word += 1\n",
    "        non_spam_count_dict[word] = emails_with_word\n",
    "        total_non_spam_count += emails_with_word\n",
    "\n",
    "    return spam_count_dict, non_spam_count_dict, total_spam_count, total_non_spam_count"
   ]
  },
  {
   "cell_type": "code",
   "execution_count": 7,
   "metadata": {},
   "outputs": [],
   "source": [
    "def Bayes(email, spam_dict, nonspam_dict, spam_prob, nonspam_prob, total_spam, total_nonspam, alpha = 1):\n",
    "    email = email.split()\n",
    "    probs = []\n",
    "\n",
    "    #finding prob of spam\n",
    "    for word in email:\n",
    "        x = spam_dict.get(word, 0)\n",
    "        prob_w_given_spam = (x+alpha)/(total_spam + alpha*len(spam_dict))\n",
    "        spam_prob *= prob_w_given_spam\n",
    "            \n",
    "    #finding prob of nonspam\n",
    "    for word in email:\n",
    "        x = nonspam_dict.get(word, 0)\n",
    "        prob_w_given_nonspam = (x+alpha)/(total_nonspam + alpha*len(nonspam_dict))\n",
    "        nonspam_prob *= prob_w_given_nonspam\n",
    "\n",
    "    return 1 if spam_prob >= nonspam_prob else 0"
   ]
  },
  {
   "source": [
    "## Creating K-Folds and calling the functions"
   ],
   "cell_type": "markdown",
   "metadata": {}
  },
  {
   "cell_type": "code",
   "execution_count": 8,
   "metadata": {
    "tags": []
   },
   "outputs": [
    {
     "output_type": "stream",
     "name": "stdout",
     "text": [
      "\n",
      "Fold 1\n",
      "True negatives are 42\n",
      "True positives are 69\n",
      "False negatives are 7\n",
      "False positives are 24\n",
      "Percentage of emails correctly classified: 78.16901408450704\n",
      "\n",
      "Fold 2\n",
      "True negatives are 39\n",
      "True positives are 69\n",
      "False negatives are 8\n",
      "False positives are 26\n",
      "Percentage of emails correctly classified: 76.05633802816901\n",
      "\n",
      "Fold 3\n",
      "True negatives are 49\n",
      "True positives are 57\n",
      "False negatives are 7\n",
      "False positives are 29\n",
      "Percentage of emails correctly classified: 74.64788732394366\n",
      "\n",
      "Fold 4\n",
      "True negatives are 53\n",
      "True positives are 56\n",
      "False negatives are 8\n",
      "False positives are 25\n",
      "Percentage of emails correctly classified: 76.76056338028168\n",
      "\n",
      "Fold 5\n",
      "True negatives are 40\n",
      "True positives are 67\n",
      "False negatives are 15\n",
      "False positives are 20\n",
      "Percentage of emails correctly classified: 75.35211267605634\n",
      "\n",
      "Fold 6\n",
      "True negatives are 53\n",
      "True positives are 62\n",
      "False negatives are 7\n",
      "False positives are 20\n",
      "Percentage of emails correctly classified: 80.98591549295774\n",
      "\n",
      "Fold 7\n",
      "True negatives are 50\n",
      "True positives are 62\n",
      "False negatives are 5\n",
      "False positives are 25\n",
      "Percentage of emails correctly classified: 78.87323943661971\n",
      "\n",
      "Average accuracy is 77.2635814889336\n"
     ]
    }
   ],
   "source": [
    "a = list(zip(X, Y))\n",
    "np.random.shuffle(a)\n",
    "X, Y = list(zip(*a))\n",
    "\n",
    "size = len(X) // 7\n",
    "accuracies = []\n",
    "\n",
    "for i in range(7):\n",
    "    print(f'\\nFold {i+1}')\n",
    "    X_test = X[i*size : (i+1)*size]\n",
    "    X_train = X[0 : i*size] + X[(i+1)*size : ]\n",
    "    Y_test = Y[i*size : (i+1)*size]\n",
    "    Y_train = Y[0 : i*size] + Y[(i+1)*size : ]\n",
    "\n",
    "    # Training Naive Bayes Classifier\n",
    "    spam = []\n",
    "    non_spam = []\n",
    "    for text, c in zip(X_train, Y_train):\n",
    "        if c == 1:\n",
    "            spam.append(text)\n",
    "        else:\n",
    "            non_spam.append(text)\n",
    "\n",
    "    prob_spam = len(spam) / (len(spam) + len(non_spam))\n",
    "    prob_nonspam = len(non_spam) / (len(spam) + len(non_spam))\n",
    "    spam_count_dict, non_spam_count_dict, total_spam_count, total_non_spam_count = find_counts(spam, non_spam)\n",
    "\n",
    "    tp = 0\n",
    "    tn = 0\n",
    "    fp = 0\n",
    "    fn = 0\n",
    "\n",
    "    # Testing the model\n",
    "    for sentence, c in zip(X_test, Y_test):\n",
    "        final_classification = Bayes(sentence, spam_count_dict, non_spam_count_dict, prob_spam, prob_nonspam, total_spam_count, total_non_spam_count)\n",
    "\n",
    "        if final_classification == 1:\n",
    "            if c == 1:\n",
    "                tp += 1\n",
    "            else:\n",
    "                fp += 1\n",
    "        else:\n",
    "            if c == 1:\n",
    "                fn += 1\n",
    "            else:\n",
    "                tn += 1\n",
    "\n",
    "    print(f'True negatives are {tn}')\n",
    "    print(f'True positives are {tp}')\n",
    "    print(f'False negatives are {fn}') \n",
    "    print(f'False positives are {fp}')\n",
    "    accuracy = (tp+tn)/(tp+tn+fp+fn) * 100\n",
    "    print(f'Percentage of emails correctly classified: {accuracy}')\n",
    "    accuracies.append(accuracy)\n",
    "\n",
    "print(f'\\nAverage accuracy is {np.mean(accuracies)}')"
   ]
  },
  {
   "cell_type": "code",
   "execution_count": null,
   "metadata": {},
   "outputs": [],
   "source": []
  }
 ]
}